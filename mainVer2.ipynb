{
 "cells": [
  {
   "cell_type": "code",
   "execution_count": 1,
   "metadata": {},
   "outputs": [],
   "source": [
    "import json\n",
    "import logging\n",
    "import os\n",
    "import numpy as np\n",
    "import tensorflow as tf\n",
    "import matplotlib.pyplot as plt\n",
    "from scipy.stats import norm\n",
    "from scipy import interpolate"
   ]
  },
  {
   "cell_type": "code",
   "execution_count": 2,
   "metadata": {},
   "outputs": [],
   "source": [
    "from config import get_config\n",
    "from equation import get_equation\n",
    "from solverVer2 import FeedForwardModel"
   ]
  },
  {
   "cell_type": "code",
   "execution_count": 3,
   "metadata": {},
   "outputs": [],
   "source": [
    "def blackscholes_price(K, T, S, vol, r=0, q=0, callput='call'):\n",
    "    F = S*np.exp((r-q)*T)\n",
    "    v = np.sqrt(vol**2*T)\n",
    "    d1 = np.log(F/K)/v + 0.5*v\n",
    "    d2 = d1 - v\n",
    "    try:\n",
    "        opttype = {'call':1, 'put':-1}[callput.lower()]\n",
    "    except:\n",
    "        raise ValueError('The value of callput must be either \"call\" or \"put\".')\n",
    "    price = opttype*(F*norm.cdf(opttype*d1)-K*norm.cdf(opttype*d2))*np.exp(-r*T)\n",
    "    return price"
   ]
  },
  {
   "cell_type": "code",
   "execution_count": 4,
   "metadata": {},
   "outputs": [],
   "source": [
    "def del_all_flags(FLAGS):\n",
    "    flags_dict = FLAGS._flags()    \n",
    "    keys_list = [keys for keys in flags_dict]    \n",
    "    for keys in keys_list:\n",
    "        FLAGS.__delattr__(keys)\n",
    "\n",
    "del_all_flags(tf.flags.FLAGS)\n",
    "\n",
    "FLAGS = tf.app.flags.FLAGS\n",
    "tf.app.flags.DEFINE_string('f', '', 'kernel')\n",
    "\n",
    "tf.app.flags.DEFINE_string('problem_name', 'EuropeanCall',\n",
    "                           \"\"\"The name of partial differential equation.\"\"\")\n",
    "tf.app.flags.DEFINE_integer('num_run', 1,\n",
    "                            \"\"\"The number of experiments to repeatedly run for the same problem.\"\"\")\n",
    "tf.app.flags.DEFINE_string('log_dir', './logs',\n",
    "                           \"\"\"Directory where to write event logs and output array.\"\"\")"
   ]
  },
  {
   "cell_type": "code",
   "execution_count": 5,
   "metadata": {},
   "outputs": [],
   "source": [
    "def main():\n",
    "    problem_name = FLAGS.problem_name\n",
    "    config = get_config(problem_name)\n",
    "    bsde = get_equation(problem_name, config.dim, config.total_time, config.num_time_interval)\n",
    "\n",
    "    if not os.path.exists(FLAGS.log_dir):\n",
    "        os.mkdir(FLAGS.log_dir)\n",
    "    path_prefix = os.path.join(FLAGS.log_dir, problem_name)\n",
    "    with open('{}_config.json'.format(path_prefix), 'w') as outfile:\n",
    "        json.dump(dict((name, getattr(config, name))\n",
    "                       for name in dir(config) if not name.startswith('__')),\n",
    "                  outfile, indent=2)\n",
    "    logging.basicConfig(level=logging.INFO,\n",
    "                        format='%(levelname)-6s %(message)s')\n",
    "\n",
    "    for idx_run in range(1, FLAGS.num_run+1):\n",
    "        tf.reset_default_graph()\n",
    "        with tf.Session() as sess:\n",
    "            logging.info('Begin to solve %s with run %d' % (problem_name, idx_run))\n",
    "            model = FeedForwardModel(config, bsde, sess)\n",
    "            model.build()\n",
    "            training_history, graphs = model.train()\n",
    "            np.savetxt('{}_training_history_{}.csv'.format(path_prefix, idx_run),\n",
    "                       training_history,\n",
    "                       fmt=['%d', '%.5e', '%d'],\n",
    "                       delimiter=\",\",\n",
    "                       header=\"step,loss_function,elapsed_time\",\n",
    "                       comments='')\n",
    "    return graphs"
   ]
  },
  {
   "cell_type": "code",
   "execution_count": 6,
   "metadata": {
    "scrolled": false
   },
   "outputs": [
    {
     "name": "stderr",
     "output_type": "stream",
     "text": [
      "INFO   Begin to solve EuropeanCall with run 1\n"
     ]
    },
    {
     "name": "stdout",
     "output_type": "stream",
     "text": [
      "WARNING:tensorflow:From C:\\Users\\sy8w\\OneDrive\\Documents\\Projects and Presentation\\github\\solverVer2.py:56: The name tf.placeholder is deprecated. Please use tf.compat.v1.placeholder instead.\n",
      "\n"
     ]
    },
    {
     "name": "stderr",
     "output_type": "stream",
     "text": [
      "WARNING From C:\\Users\\sy8w\\OneDrive\\Documents\\Projects and Presentation\\github\\solverVer2.py:56: The name tf.placeholder is deprecated. Please use tf.compat.v1.placeholder instead.\n",
      "\n"
     ]
    },
    {
     "name": "stdout",
     "output_type": "stream",
     "text": [
      "WARNING:tensorflow:From C:\\Users\\sy8w\\OneDrive\\Documents\\Projects and Presentation\\github\\solverVer2.py:114: The name tf.variable_scope is deprecated. Please use tf.compat.v1.variable_scope instead.\n",
      "\n"
     ]
    },
    {
     "name": "stderr",
     "output_type": "stream",
     "text": [
      "WARNING From C:\\Users\\sy8w\\OneDrive\\Documents\\Projects and Presentation\\github\\solverVer2.py:114: The name tf.variable_scope is deprecated. Please use tf.compat.v1.variable_scope instead.\n",
      "\n"
     ]
    },
    {
     "name": "stdout",
     "output_type": "stream",
     "text": [
      "WARNING:tensorflow:From C:\\Users\\sy8w\\OneDrive\\Documents\\Projects and Presentation\\github\\solverVer2.py:114: The name tf.AUTO_REUSE is deprecated. Please use tf.compat.v1.AUTO_REUSE instead.\n",
      "\n"
     ]
    },
    {
     "name": "stderr",
     "output_type": "stream",
     "text": [
      "WARNING From C:\\Users\\sy8w\\OneDrive\\Documents\\Projects and Presentation\\github\\solverVer2.py:114: The name tf.AUTO_REUSE is deprecated. Please use tf.compat.v1.AUTO_REUSE instead.\n",
      "\n"
     ]
    },
    {
     "name": "stdout",
     "output_type": "stream",
     "text": [
      "WARNING:tensorflow:From C:\\Users\\sy8w\\OneDrive\\Documents\\Projects and Presentation\\github\\solverVer2.py:151: The name tf.get_variable is deprecated. Please use tf.compat.v1.get_variable instead.\n",
      "\n"
     ]
    },
    {
     "name": "stderr",
     "output_type": "stream",
     "text": [
      "WARNING From C:\\Users\\sy8w\\OneDrive\\Documents\\Projects and Presentation\\github\\solverVer2.py:151: The name tf.get_variable is deprecated. Please use tf.compat.v1.get_variable instead.\n",
      "\n"
     ]
    },
    {
     "name": "stdout",
     "output_type": "stream",
     "text": [
      "WARNING:tensorflow:From C:\\Users\\sy8w\\OneDrive\\Documents\\Projects and Presentation\\github\\solverVer2.py:167: calling RandomNormal.__init__ (from tensorflow.python.ops.init_ops) with dtype is deprecated and will be removed in a future version.\n",
      "Instructions for updating:\n",
      "Call initializer instance with the dtype argument instead of passing it to the constructor\n"
     ]
    },
    {
     "name": "stderr",
     "output_type": "stream",
     "text": [
      "WARNING From C:\\Users\\sy8w\\OneDrive\\Documents\\Projects and Presentation\\github\\solverVer2.py:167: calling RandomNormal.__init__ (from tensorflow.python.ops.init_ops) with dtype is deprecated and will be removed in a future version.\n",
      "Instructions for updating:\n",
      "Call initializer instance with the dtype argument instead of passing it to the constructor\n"
     ]
    },
    {
     "name": "stdout",
     "output_type": "stream",
     "text": [
      "WARNING:tensorflow:From C:\\Users\\sy8w\\OneDrive\\Documents\\Projects and Presentation\\github\\solverVer2.py:170: calling RandomUniform.__init__ (from tensorflow.python.ops.init_ops) with dtype is deprecated and will be removed in a future version.\n",
      "Instructions for updating:\n",
      "Call initializer instance with the dtype argument instead of passing it to the constructor\n"
     ]
    },
    {
     "name": "stderr",
     "output_type": "stream",
     "text": [
      "WARNING From C:\\Users\\sy8w\\OneDrive\\Documents\\Projects and Presentation\\github\\solverVer2.py:170: calling RandomUniform.__init__ (from tensorflow.python.ops.init_ops) with dtype is deprecated and will be removed in a future version.\n",
      "Instructions for updating:\n",
      "Call initializer instance with the dtype argument instead of passing it to the constructor\n"
     ]
    },
    {
     "name": "stdout",
     "output_type": "stream",
     "text": [
      "WARNING:tensorflow:From C:\\Users\\sy8w\\OneDrive\\Documents\\Projects and Presentation\\github\\solverVer2.py:172: calling Constant.__init__ (from tensorflow.python.ops.init_ops) with dtype is deprecated and will be removed in a future version.\n",
      "Instructions for updating:\n",
      "Call initializer instance with the dtype argument instead of passing it to the constructor\n"
     ]
    },
    {
     "name": "stderr",
     "output_type": "stream",
     "text": [
      "WARNING From C:\\Users\\sy8w\\OneDrive\\Documents\\Projects and Presentation\\github\\solverVer2.py:172: calling Constant.__init__ (from tensorflow.python.ops.init_ops) with dtype is deprecated and will be removed in a future version.\n",
      "Instructions for updating:\n",
      "Call initializer instance with the dtype argument instead of passing it to the constructor\n"
     ]
    },
    {
     "name": "stdout",
     "output_type": "stream",
     "text": [
      "t: 5\n",
      "WARNING:tensorflow:From C:\\Users\\sy8w\\OneDrive\\Documents\\Projects and Presentation\\github\\solverVer2.py:81: calling reduce_sum_v1 (from tensorflow.python.ops.math_ops) with keep_dims is deprecated and will be removed in a future version.\n",
      "Instructions for updating:\n",
      "keep_dims is deprecated, use keepdims instead\n"
     ]
    },
    {
     "name": "stderr",
     "output_type": "stream",
     "text": [
      "WARNING From C:\\Users\\sy8w\\OneDrive\\Documents\\Projects and Presentation\\github\\solverVer2.py:81: calling reduce_sum_v1 (from tensorflow.python.ops.math_ops) with keep_dims is deprecated and will be removed in a future version.\n",
      "Instructions for updating:\n",
      "keep_dims is deprecated, use keepdims instead\n"
     ]
    },
    {
     "name": "stdout",
     "output_type": "stream",
     "text": [
      "t: 6\n",
      "t: 7\n",
      "t: 8\n",
      "WARNING:tensorflow:From C:\\Users\\sy8w\\OneDrive\\Documents\\Projects and Presentation\\github\\solverVer2.py:101: The name tf.train.piecewise_constant is deprecated. Please use tf.compat.v1.train.piecewise_constant instead.\n",
      "\n"
     ]
    },
    {
     "name": "stderr",
     "output_type": "stream",
     "text": [
      "WARNING From C:\\Users\\sy8w\\OneDrive\\Documents\\Projects and Presentation\\github\\solverVer2.py:101: The name tf.train.piecewise_constant is deprecated. Please use tf.compat.v1.train.piecewise_constant instead.\n",
      "\n"
     ]
    },
    {
     "name": "stdout",
     "output_type": "stream",
     "text": [
      "WARNING:tensorflow:From C:\\Users\\sy8w\\OneDrive\\Documents\\Projects and Presentation\\github\\solverVer2.py:104: The name tf.trainable_variables is deprecated. Please use tf.compat.v1.trainable_variables instead.\n",
      "\n"
     ]
    },
    {
     "name": "stderr",
     "output_type": "stream",
     "text": [
      "WARNING From C:\\Users\\sy8w\\OneDrive\\Documents\\Projects and Presentation\\github\\solverVer2.py:104: The name tf.trainable_variables is deprecated. Please use tf.compat.v1.trainable_variables instead.\n",
      "\n"
     ]
    },
    {
     "name": "stdout",
     "output_type": "stream",
     "text": [
      "WARNING:tensorflow:From C:\\Users\\sy8w\\OneDrive\\Documents\\Projects and Presentation\\github\\solverVer2.py:106: The name tf.train.AdamOptimizer is deprecated. Please use tf.compat.v1.train.AdamOptimizer instead.\n",
      "\n"
     ]
    },
    {
     "name": "stderr",
     "output_type": "stream",
     "text": [
      "WARNING From C:\\Users\\sy8w\\OneDrive\\Documents\\Projects and Presentation\\github\\solverVer2.py:106: The name tf.train.AdamOptimizer is deprecated. Please use tf.compat.v1.train.AdamOptimizer instead.\n",
      "\n",
      "INFO   step:     0,    loss: 2.3018e+02,  elapsed time 112\n",
      "INFO   step:   100,    loss: 2.6535e+02,  elapsed time 190\n",
      "INFO   step:   200,    loss: 2.4012e+02,  elapsed time 196\n",
      "INFO   step:   300,    loss: 2.3184e+02,  elapsed time 202\n",
      "INFO   step:   400,    loss: 2.2121e+02,  elapsed time 208\n",
      "INFO   step:   500,    loss: 2.1001e+02,  elapsed time 214\n",
      "INFO   step:   600,    loss: 2.0138e+02,  elapsed time 221\n",
      "INFO   step:   700,    loss: 1.9570e+02,  elapsed time 227\n",
      "INFO   step:   800,    loss: 1.9330e+02,  elapsed time 233\n",
      "INFO   step:   900,    loss: 1.7828e+02,  elapsed time 239\n",
      "INFO   step:  1000,    loss: 1.7487e+02,  elapsed time 245\n",
      "INFO   step:  1100,    loss: 1.7485e+02,  elapsed time 252\n",
      "INFO   step:  1200,    loss: 1.7002e+02,  elapsed time 258\n",
      "INFO   step:  1300,    loss: 1.5997e+02,  elapsed time 264\n",
      "INFO   step:  1400,    loss: 1.5950e+02,  elapsed time 270\n",
      "INFO   step:  1500,    loss: 1.5981e+02,  elapsed time 277\n",
      "INFO   step:  1600,    loss: 1.5739e+02,  elapsed time 283\n",
      "INFO   step:  1700,    loss: 1.5357e+02,  elapsed time 290\n",
      "INFO   step:  1800,    loss: 1.5177e+02,  elapsed time 296\n",
      "INFO   step:  1900,    loss: 1.5255e+02,  elapsed time 302\n",
      "INFO   step:  2000,    loss: 1.5257e+02,  elapsed time 308\n",
      "INFO   step:  2100,    loss: 1.4837e+02,  elapsed time 315\n",
      "INFO   step:  2200,    loss: 1.4845e+02,  elapsed time 321\n",
      "INFO   step:  2300,    loss: 1.4901e+02,  elapsed time 327\n",
      "INFO   step:  2400,    loss: 1.4664e+02,  elapsed time 333\n",
      "INFO   step:  2500,    loss: 1.4643e+02,  elapsed time 340\n",
      "INFO   step:  2600,    loss: 1.4596e+02,  elapsed time 346\n",
      "INFO   step:  2700,    loss: 1.4524e+02,  elapsed time 352\n",
      "INFO   step:  2800,    loss: 1.4524e+02,  elapsed time 358\n",
      "INFO   step:  2900,    loss: 1.4502e+02,  elapsed time 364\n",
      "INFO   step:  3000,    loss: 1.4636e+02,  elapsed time 371\n",
      "INFO   step:  3100,    loss: 1.4585e+02,  elapsed time 378\n",
      "INFO   step:  3200,    loss: 1.4710e+02,  elapsed time 384\n",
      "INFO   step:  3300,    loss: 1.4739e+02,  elapsed time 391\n",
      "INFO   step:  3400,    loss: 1.4711e+02,  elapsed time 397\n",
      "INFO   step:  3500,    loss: 1.4633e+02,  elapsed time 403\n",
      "INFO   step:  3600,    loss: 1.4634e+02,  elapsed time 409\n",
      "INFO   step:  3700,    loss: 1.4562e+02,  elapsed time 416\n",
      "INFO   step:  3800,    loss: 1.4532e+02,  elapsed time 422\n",
      "INFO   step:  3900,    loss: 1.4568e+02,  elapsed time 428\n",
      "INFO   step:  4000,    loss: 1.4578e+02,  elapsed time 435\n"
     ]
    }
   ],
   "source": [
    "g=main()"
   ]
  },
  {
   "cell_type": "code",
   "execution_count": 7,
   "metadata": {
    "scrolled": false
   },
   "outputs": [
    {
     "data": {
      "image/png": "[encoded data removed]",
      "text/plain": [
       "<Figure size 432x288 with 1 Axes>"
      ]
     },
     "metadata": {
      "needs_background": "light"
     },
     "output_type": "display_data"
    },
    {
     "data": {
      "image/png": "[encoded data removed]",
      "text/plain": [
       "<Figure size 432x288 with 1 Axes>"
      ]
     },
     "metadata": {
      "needs_background": "light"
     },
     "output_type": "display_data"
    },
    {
     "data": {
      "image/png": "[encoded data removed]",
      "text/plain": [
       "<Figure size 432x288 with 1 Axes>"
      ]
     },
     "metadata": {
      "needs_background": "light"
     },
     "output_type": "display_data"
    },
    {
     "data": {
      "image/png": "[encoded data removed]",
      "text/plain": [
       "<Figure size 432x288 with 1 Axes>"
      ]
     },
     "metadata": {
      "needs_background": "light"
     },
     "output_type": "display_data"
    },
    {
     "data": {
      "image/png": "[encoded data removed]",
      "text/plain": [
       "<Figure size 432x288 with 1 Axes>"
      ]
     },
     "metadata": {
      "needs_background": "light"
     },
     "output_type": "display_data"
    },
    {
     "data": {
      "image/png": "[encoded data removed]",
      "text/plain": [
       "<Figure size 432x288 with 1 Axes>"
      ]
     },
     "metadata": {
      "needs_background": "light"
     },
     "output_type": "display_data"
    }
   ],
   "source": [
    "s0=100\n",
    "k=100\n",
    "r=0.02\n",
    "sigma=0.20\n",
    "T=1\n",
    "\n",
    "for i in range(len(g)):\n",
    "    fig, ax = plt.subplots()\n",
    "    ax.plot(np.linspace(80,120, 82),np.array(g[i]).flatten())\n",
    "    if i==0:\n",
    "        ax.plot(np.linspace(80,120, 82),blackscholes_price(100, 0.5, np.linspace(80,120, 82), sigma, r, 0, 'call'),'r',label='Black-Scholes Price')"
   ]
  },
  {
   "cell_type": "code",
   "execution_count": 12,
   "metadata": {},
   "outputs": [],
   "source": [
    "deltas=[]\n",
    "\n",
    "for i in range(len(g)):\n",
    "    deltas.append(interpolate.interp1d(np.linspace(80,120, 82),np.array(g[i]).flatten(),kind='slinear',fill_value='extrapolate'))"
   ]
  },
  {
   "cell_type": "code",
   "execution_count": 51,
   "metadata": {},
   "outputs": [
    {
     "data": {
      "text/plain": [
       "<matplotlib.legend.Legend at 0x20df5ee4148>"
      ]
     },
     "execution_count": 51,
     "metadata": {},
     "output_type": "execute_result"
    },
    {
     "data": {
      "image/png": "[encoded data removed]",
      "text/plain": [
       "<Figure size 432x288 with 1 Axes>"
      ]
     },
     "metadata": {
      "needs_background": "light"
     },
     "output_type": "display_data"
    }
   ],
   "source": [
    "n_samples=10000\n",
    "S=np.linspace(80,120, 402)\n",
    "Yt=np.zeros(402)\n",
    "\n",
    "for i in range(402):\n",
    "    samples,dW=blackscholes_mc(S[i],sigma,r,0,np.linspace(0, 0.5, 6),n_samples)\n",
    "    Y=np.maximum(samples[-1]-k,0)\n",
    "    \n",
    "    for j in range(4,-1,-1):\n",
    "        #Y=Y+r*Y*0.1-sigma*deltas[4+j](samples[j])*dW[j+1]\n",
    "        Y=Y+r*Y*0.1\n",
    "    Yt[i]=np.mean(Y) \n",
    "        \n",
    "fig, ax = plt.subplots()\n",
    "ax.plot(S,Yt,label='Price by Deep BSDE')\n",
    "ax.plot(np.linspace(80,120, 82),blackscholes_price(k, 0.5, np.linspace(80,120, 82), sigma, r, 0, 'call'),'r',label='Black-Scholes Price')\n",
    "ax.legend(loc=0)"
   ]
  },
  {
   "cell_type": "code",
   "execution_count": 32,
   "metadata": {},
   "outputs": [
    {
     "name": "stdout",
     "output_type": "stream",
     "text": [
      "[[100.         100.        ]\n",
      " [ 95.12741379 105.34959018]\n",
      " [ 90.06587477  93.17892443]\n",
      " [ 97.53952658  93.68176701]\n",
      " [100.34154174  91.66134407]\n",
      " [100.81082683  99.38657406]]\n",
      "[[ 0.          0.        ]\n",
      " [-0.24976498  0.26057032]\n",
      " [-0.52314421 -0.35324311]\n",
      " [-0.12456245 -0.32633302]\n",
      " [ 0.01704799 -0.43534722]\n",
      " [ 0.04037786 -0.03076576]]\n"
     ]
    }
   ],
   "source": [
    "samples,dW=blackscholes_mc(100,sigma,r,0,np.linspace(0, 0.5, 6),2)\n",
    "print(samples)\n",
    "print(dW)"
   ]
  },
  {
   "cell_type": "code",
   "execution_count": 31,
   "metadata": {},
   "outputs": [],
   "source": [
    "def blackscholes_mc(S=100, vol=0.2, r=0, q=0, ts=np.linspace(0, 1, 13), npaths=10):\n",
    "    \"\"\"Generate Monte-Carlo paths in Black-Scholes model.\n",
    "\n",
    "    Parameters\n",
    "    ----------\n",
    "    S: scalar\n",
    "        The spot price of the underlying security.\n",
    "    vol: scalar\n",
    "        The implied Black-Scholes volatility.\n",
    "    r: scalar\n",
    "        The annualized risk-free interest rate, continuously compounded.\n",
    "    q: scalar\n",
    "        The annualized continuous dividend yield.\n",
    "    ts: array_like\n",
    "        The time steps of the simualtion\n",
    "    npaths: int\n",
    "        the number of paths to simulate\n",
    "\n",
    "    Returns\n",
    "    -------\n",
    "    paths: ndarray\n",
    "        The Monte-Carlo paths.\n",
    "    \"\"\"\n",
    "    nsteps = len(ts) - 1\n",
    "    ts = np.asfarray(ts)[:, np.newaxis]\n",
    "    W = np.cumsum(np.vstack((np.zeros((1, npaths), dtype=np.float),\n",
    "                             np.random.randn(nsteps, npaths) * np.sqrt(np.diff(ts, axis=0)))),\n",
    "                  axis=0)\n",
    "    paths = np.exp(-0.5*vol**2*ts + vol*W)*S*np.exp((r-q)*ts)\n",
    "    return paths,W\n",
    "\n",
    "\n",
    "\n",
    "def blackscholes_price(K, T, S, vol, r=0, q=0, callput='call'):\n",
    "    \"\"\"Compute the call/put option price in the Black-Scholes model\n",
    "    \n",
    "    Parameters\n",
    "    ----------\n",
    "    K: scalar or array_like\n",
    "        The strike of the option.\n",
    "    T: scalar or array_like\n",
    "        The maturity of the option, expressed in years (e.g. 0.25 for 3-month and 2 for 2 years)\n",
    "    S: scalar or array_like\n",
    "        The current price of the underlying asset.\n",
    "    vol: scalar or array_like\n",
    "        The implied Black-Scholes volatility.\n",
    "    r: scalar or array_like\n",
    "        The annualized risk-free interest rate, continuously compounded.\n",
    "    q: scalar or array_like\n",
    "        The annualized continuous dividend yield.\n",
    "    callput: str\n",
    "        Must be either 'call' or 'put'.\n",
    "\n",
    "    Returns\n",
    "    -------\n",
    "    price: scalar or array_like\n",
    "        The price of the option.\n",
    "\n",
    "    Examples\n",
    "    --------\n",
    "    >>> blackscholes_price(95, 0.25, 100, 0.2, r=0.05, callput='put')\n",
    "    1.5342604771222823\n",
    "    \"\"\"\n",
    "    F = S*np.exp((r-q)*T)\n",
    "    v = np.sqrt(vol**2*T)\n",
    "    d1 = np.log(F/K)/v + 0.5*v\n",
    "    d2 = d1 - v\n",
    "    try:\n",
    "        opttype = {'call':1, 'put':-1}[callput.lower()]\n",
    "    except:\n",
    "        raise ValueError('The value of callput must be either \"call\" or \"put\".')\n",
    "    price = opttype*(F*norm.cdf(opttype*d1)-K*norm.cdf(opttype*d2))*np.exp(-r*T)\n",
    "    return price"
   ]
  },
  {
   "cell_type": "code",
   "execution_count": 8,
   "metadata": {},
   "outputs": [
    {
     "name": "stdout",
     "output_type": "stream",
     "text": [
      "8.916037278572539\n"
     ]
    }
   ],
   "source": [
    "s0=100\n",
    "k=100\n",
    "r=0.02\n",
    "sigma=0.20\n",
    "T=1\n",
    "\n",
    "d1=(np.log(s0/k)+(r+sigma*sigma/2)*T)/(sigma*np.sqrt(T))\n",
    "d2=(np.log(s0/k)+(r-sigma*sigma/2)*T)/(sigma*np.sqrt(T))\n",
    "\n",
    "print(norm.cdf(d1)*s0-norm.cdf(d2)*k*np.exp(-r*T))"
   ]
  },
  {
   "cell_type": "code",
   "execution_count": null,
   "metadata": {},
   "outputs": [],
   "source": []
  }
 ],
 "metadata": {
  "kernelspec": {
   "display_name": "Python 3",
   "language": "python",
   "name": "python3"
  },
  "language_info": {
   "codemirror_mode": {
    "name": "ipython",
    "version": 3
   },
   "file_extension": ".py",
   "mimetype": "text/x-python",
   "name": "python",
   "nbconvert_exporter": "python",
   "pygments_lexer": "ipython3",
   "version": "3.7.4"
  }
 },
 "nbformat": 4,
 "nbformat_minor": 2
}
