{
 "cells": [
  {
   "cell_type": "code",
   "execution_count": 1,
   "metadata": {},
   "outputs": [],
   "source": [
    "import json\n",
    "import logging\n",
    "import os\n",
    "import numpy as np\n",
    "import tensorflow as tf\n",
    "from scipy.stats import norm\n",
    "from config import get_config\n",
    "from equation import get_equation\n",
    "from solver import FeedForwardModel"
   ]
  },
  {
   "cell_type": "code",
   "execution_count": 2,
   "metadata": {},
   "outputs": [
    {
     "name": "stdout",
     "output_type": "stream",
     "text": [
      "8.916037278572539\n"
     ]
    }
   ],
   "source": [
    "s0=100\n",
    "k=100\n",
    "r=0.02\n",
    "sigma=0.20\n",
    "T=1\n",
    "\n",
    "d1=(np.log(s0/k)+(r+sigma*sigma/2)*T)/(sigma*np.sqrt(T))\n",
    "d2=(np.log(s0/k)+(r-sigma*sigma/2)*T)/(sigma*np.sqrt(T))\n",
    "\n",
    "print(norm.cdf(d1)*s0-norm.cdf(d2)*k*np.exp(-r*T))"
   ]
  },
  {
   "cell_type": "code",
   "execution_count": 3,
   "metadata": {},
   "outputs": [],
   "source": [
    "def del_all_flags(FLAGS):\n",
    "    flags_dict = FLAGS._flags()    \n",
    "    keys_list = [keys for keys in flags_dict]    \n",
    "    for keys in keys_list:\n",
    "        FLAGS.__delattr__(keys)\n",
    "\n",
    "del_all_flags(tf.flags.FLAGS)\n",
    "\n",
    "FLAGS = tf.app.flags.FLAGS\n",
    "tf.app.flags.DEFINE_string('f', '', 'kernel')\n",
    "\n",
    "tf.app.flags.DEFINE_string('problem_name', 'EuropeanCall',\n",
    "                           \"\"\"The name of partial differential equation.\"\"\")\n",
    "tf.app.flags.DEFINE_integer('num_run', 1,\n",
    "                            \"\"\"The number of experiments to repeatedly run for the same problem.\"\"\")\n",
    "tf.app.flags.DEFINE_string('log_dir', './logs',\n",
    "                           \"\"\"Directory where to write event logs and output array.\"\"\")"
   ]
  },
  {
   "cell_type": "code",
   "execution_count": 4,
   "metadata": {},
   "outputs": [],
   "source": [
    "def main():\n",
    "    problem_name = FLAGS.problem_name\n",
    "    config = get_config(problem_name)\n",
    "    bsde = get_equation(problem_name, config.dim, config.total_time, config.num_time_interval)\n",
    "\n",
    "    if not os.path.exists(FLAGS.log_dir):\n",
    "        os.mkdir(FLAGS.log_dir)\n",
    "    path_prefix = os.path.join(FLAGS.log_dir, problem_name)\n",
    "    with open('{}_config.json'.format(path_prefix), 'w') as outfile:\n",
    "        json.dump(dict((name, getattr(config, name))\n",
    "                       for name in dir(config) if not name.startswith('__')),\n",
    "                  outfile, indent=2)\n",
    "    logging.basicConfig(level=logging.INFO,\n",
    "                        format='%(levelname)-6s %(message)s')\n",
    "\n",
    "    for idx_run in range(1, FLAGS.num_run+1):\n",
    "        tf.reset_default_graph()\n",
    "        with tf.Session() as sess:\n",
    "            logging.info('Begin to solve %s with run %d' % (problem_name, idx_run))\n",
    "            model = FeedForwardModel(config, bsde, sess)\n",
    "            if bsde.y_init:\n",
    "                logging.info('Y0_true: %.4e' % bsde.y_init)\n",
    "            model.build()\n",
    "            training_history = model.train()\n",
    "            if bsde.y_init:\n",
    "                logging.info('relative error of Y0: %s',\n",
    "                             '{:.2%}'.format(\n",
    "                                 abs(bsde.y_init - training_history[-1, 2])/bsde.y_init))\n",
    "            # save training history\n",
    "            np.savetxt('{}_training_history_{}.csv'.format(path_prefix, idx_run),\n",
    "                       training_history,\n",
    "                       fmt=['%d', '%.5e', '%.5e', '%d'],\n",
    "                       delimiter=\",\",\n",
    "                       header=\"step,loss_function,target_value,elapsed_time\",\n",
    "                       comments='')"
   ]
  },
  {
   "cell_type": "code",
   "execution_count": 5,
   "metadata": {},
   "outputs": [
    {
     "name": "stderr",
     "output_type": "stream",
     "text": [
      "INFO   Begin to solve EuropeanCall with run 1\n"
     ]
    },
    {
     "name": "stdout",
     "output_type": "stream",
     "text": [
      "WARNING:tensorflow:From C:\\Users\\sy8w\\OneDrive\\Documents\\Projects and Presentation\\BSDE\\solver.py:54: The name tf.placeholder is deprecated. Please use tf.compat.v1.placeholder instead.\n",
      "\n"
     ]
    },
    {
     "name": "stderr",
     "output_type": "stream",
     "text": [
      "WARNING From C:\\Users\\sy8w\\OneDrive\\Documents\\Projects and Presentation\\BSDE\\solver.py:54: The name tf.placeholder is deprecated. Please use tf.compat.v1.placeholder instead.\n",
      "\n"
     ]
    },
    {
     "name": "stdout",
     "output_type": "stream",
     "text": [
      "WARNING:tensorflow:From C:\\Users\\sy8w\\OneDrive\\Documents\\Projects and Presentation\\BSDE\\solver.py:57: The name tf.random_uniform is deprecated. Please use tf.random.uniform instead.\n",
      "\n"
     ]
    },
    {
     "name": "stderr",
     "output_type": "stream",
     "text": [
      "WARNING From C:\\Users\\sy8w\\OneDrive\\Documents\\Projects and Presentation\\BSDE\\solver.py:57: The name tf.random_uniform is deprecated. Please use tf.random.uniform instead.\n",
      "\n"
     ]
    },
    {
     "name": "stdout",
     "output_type": "stream",
     "text": [
      "WARNING:tensorflow:From C:\\Users\\sy8w\\OneDrive\\Documents\\Projects and Presentation\\BSDE\\solver.py:67: The name tf.variable_scope is deprecated. Please use tf.compat.v1.variable_scope instead.\n",
      "\n"
     ]
    },
    {
     "name": "stderr",
     "output_type": "stream",
     "text": [
      "WARNING From C:\\Users\\sy8w\\OneDrive\\Documents\\Projects and Presentation\\BSDE\\solver.py:67: The name tf.variable_scope is deprecated. Please use tf.compat.v1.variable_scope instead.\n",
      "\n"
     ]
    },
    {
     "name": "stdout",
     "output_type": "stream",
     "text": [
      "WARNING:tensorflow:From C:\\Users\\sy8w\\OneDrive\\Documents\\Projects and Presentation\\BSDE\\solver.py:71: calling reduce_sum_v1 (from tensorflow.python.ops.math_ops) with keep_dims is deprecated and will be removed in a future version.\n",
      "Instructions for updating:\n",
      "keep_dims is deprecated, use keepdims instead\n"
     ]
    },
    {
     "name": "stderr",
     "output_type": "stream",
     "text": [
      "WARNING From C:\\Users\\sy8w\\OneDrive\\Documents\\Projects and Presentation\\BSDE\\solver.py:71: calling reduce_sum_v1 (from tensorflow.python.ops.math_ops) with keep_dims is deprecated and will be removed in a future version.\n",
      "Instructions for updating:\n",
      "keep_dims is deprecated, use keepdims instead\n"
     ]
    },
    {
     "name": "stdout",
     "output_type": "stream",
     "text": [
      "WARNING:tensorflow:From C:\\Users\\sy8w\\OneDrive\\Documents\\Projects and Presentation\\BSDE\\solver.py:131: The name tf.get_variable is deprecated. Please use tf.compat.v1.get_variable instead.\n",
      "\n"
     ]
    },
    {
     "name": "stderr",
     "output_type": "stream",
     "text": [
      "WARNING From C:\\Users\\sy8w\\OneDrive\\Documents\\Projects and Presentation\\BSDE\\solver.py:131: The name tf.get_variable is deprecated. Please use tf.compat.v1.get_variable instead.\n",
      "\n"
     ]
    },
    {
     "name": "stdout",
     "output_type": "stream",
     "text": [
      "WARNING:tensorflow:From C:\\Users\\sy8w\\OneDrive\\Documents\\Projects and Presentation\\BSDE\\solver.py:133: calling RandomNormal.__init__ (from tensorflow.python.ops.init_ops) with dtype is deprecated and will be removed in a future version.\n",
      "Instructions for updating:\n",
      "Call initializer instance with the dtype argument instead of passing it to the constructor\n"
     ]
    },
    {
     "name": "stderr",
     "output_type": "stream",
     "text": [
      "WARNING From C:\\Users\\sy8w\\OneDrive\\Documents\\Projects and Presentation\\BSDE\\solver.py:133: calling RandomNormal.__init__ (from tensorflow.python.ops.init_ops) with dtype is deprecated and will be removed in a future version.\n",
      "Instructions for updating:\n",
      "Call initializer instance with the dtype argument instead of passing it to the constructor\n"
     ]
    },
    {
     "name": "stdout",
     "output_type": "stream",
     "text": [
      "WARNING:tensorflow:From C:\\Users\\sy8w\\OneDrive\\Documents\\Projects and Presentation\\BSDE\\solver.py:136: calling RandomUniform.__init__ (from tensorflow.python.ops.init_ops) with dtype is deprecated and will be removed in a future version.\n",
      "Instructions for updating:\n",
      "Call initializer instance with the dtype argument instead of passing it to the constructor\n"
     ]
    },
    {
     "name": "stderr",
     "output_type": "stream",
     "text": [
      "WARNING From C:\\Users\\sy8w\\OneDrive\\Documents\\Projects and Presentation\\BSDE\\solver.py:136: calling RandomUniform.__init__ (from tensorflow.python.ops.init_ops) with dtype is deprecated and will be removed in a future version.\n",
      "Instructions for updating:\n",
      "Call initializer instance with the dtype argument instead of passing it to the constructor\n"
     ]
    },
    {
     "name": "stdout",
     "output_type": "stream",
     "text": [
      "WARNING:tensorflow:From C:\\Users\\sy8w\\OneDrive\\Documents\\Projects and Presentation\\BSDE\\solver.py:138: calling Constant.__init__ (from tensorflow.python.ops.init_ops) with dtype is deprecated and will be removed in a future version.\n",
      "Instructions for updating:\n",
      "Call initializer instance with the dtype argument instead of passing it to the constructor\n"
     ]
    },
    {
     "name": "stderr",
     "output_type": "stream",
     "text": [
      "WARNING From C:\\Users\\sy8w\\OneDrive\\Documents\\Projects and Presentation\\BSDE\\solver.py:138: calling Constant.__init__ (from tensorflow.python.ops.init_ops) with dtype is deprecated and will be removed in a future version.\n",
      "Instructions for updating:\n",
      "Call initializer instance with the dtype argument instead of passing it to the constructor\n"
     ]
    },
    {
     "name": "stdout",
     "output_type": "stream",
     "text": [
      "WARNING:tensorflow:From C:\\Users\\sy8w\\OneDrive\\Documents\\Projects and Presentation\\BSDE\\solver.py:80: add_dispatch_support.<locals>.wrapper (from tensorflow.python.ops.array_ops) is deprecated and will be removed in a future version.\n",
      "Instructions for updating:\n",
      "Use tf.where in 2.0, which has the same broadcast rule as np.where\n"
     ]
    },
    {
     "name": "stderr",
     "output_type": "stream",
     "text": [
      "WARNING From C:\\Users\\sy8w\\OneDrive\\Documents\\Projects and Presentation\\BSDE\\solver.py:80: add_dispatch_support.<locals>.wrapper (from tensorflow.python.ops.array_ops) is deprecated and will be removed in a future version.\n",
      "Instructions for updating:\n",
      "Use tf.where in 2.0, which has the same broadcast rule as np.where\n"
     ]
    },
    {
     "name": "stdout",
     "output_type": "stream",
     "text": [
      "WARNING:tensorflow:From C:\\Users\\sy8w\\OneDrive\\Documents\\Projects and Presentation\\BSDE\\solver.py:85: The name tf.train.piecewise_constant is deprecated. Please use tf.compat.v1.train.piecewise_constant instead.\n",
      "\n"
     ]
    },
    {
     "name": "stderr",
     "output_type": "stream",
     "text": [
      "WARNING From C:\\Users\\sy8w\\OneDrive\\Documents\\Projects and Presentation\\BSDE\\solver.py:85: The name tf.train.piecewise_constant is deprecated. Please use tf.compat.v1.train.piecewise_constant instead.\n",
      "\n"
     ]
    },
    {
     "name": "stdout",
     "output_type": "stream",
     "text": [
      "WARNING:tensorflow:From C:\\Users\\sy8w\\OneDrive\\Documents\\Projects and Presentation\\BSDE\\solver.py:88: The name tf.trainable_variables is deprecated. Please use tf.compat.v1.trainable_variables instead.\n",
      "\n"
     ]
    },
    {
     "name": "stderr",
     "output_type": "stream",
     "text": [
      "WARNING From C:\\Users\\sy8w\\OneDrive\\Documents\\Projects and Presentation\\BSDE\\solver.py:88: The name tf.trainable_variables is deprecated. Please use tf.compat.v1.trainable_variables instead.\n",
      "\n"
     ]
    },
    {
     "name": "stdout",
     "output_type": "stream",
     "text": [
      "WARNING:tensorflow:From C:\\Users\\sy8w\\OneDrive\\Documents\\Projects and Presentation\\BSDE\\solver.py:90: The name tf.train.AdamOptimizer is deprecated. Please use tf.compat.v1.train.AdamOptimizer instead.\n",
      "\n"
     ]
    },
    {
     "name": "stderr",
     "output_type": "stream",
     "text": [
      "WARNING From C:\\Users\\sy8w\\OneDrive\\Documents\\Projects and Presentation\\BSDE\\solver.py:90: The name tf.train.AdamOptimizer is deprecated. Please use tf.compat.v1.train.AdamOptimizer instead.\n",
      "\n",
      "INFO   step:     0,    loss: 1.7619e+02,   Y0: 8.9696e+00,  elapsed time  39\n",
      "INFO   step:   100,    loss: 1.8109e+02,   Y0: 8.8918e+00,  elapsed time  60\n",
      "INFO   step:   200,    loss: 1.6774e+02,   Y0: 8.8221e+00,  elapsed time  63\n",
      "INFO   step:   300,    loss: 1.5641e+02,   Y0: 8.7740e+00,  elapsed time  66\n",
      "INFO   step:   400,    loss: 1.4486e+02,   Y0: 8.8250e+00,  elapsed time  68\n",
      "INFO   step:   500,    loss: 1.3545e+02,   Y0: 8.8615e+00,  elapsed time  71\n",
      "INFO   step:   600,    loss: 1.2198e+02,   Y0: 8.9314e+00,  elapsed time  74\n",
      "INFO   step:   700,    loss: 1.1238e+02,   Y0: 8.9787e+00,  elapsed time  76\n",
      "INFO   step:   800,    loss: 1.0246e+02,   Y0: 8.9425e+00,  elapsed time  79\n",
      "INFO   step:   900,    loss: 9.3629e+01,   Y0: 8.8912e+00,  elapsed time  82\n",
      "INFO   step:  1000,    loss: 8.5822e+01,   Y0: 8.9005e+00,  elapsed time  84\n",
      "INFO   step:  1100,    loss: 7.8899e+01,   Y0: 8.9121e+00,  elapsed time  87\n",
      "INFO   step:  1200,    loss: 7.4064e+01,   Y0: 8.8912e+00,  elapsed time  90\n",
      "INFO   step:  1300,    loss: 6.8348e+01,   Y0: 8.9052e+00,  elapsed time  92\n",
      "INFO   step:  1400,    loss: 6.6088e+01,   Y0: 8.9498e+00,  elapsed time  95\n",
      "INFO   step:  1500,    loss: 6.4292e+01,   Y0: 8.9863e+00,  elapsed time  98\n",
      "INFO   step:  1600,    loss: 5.7705e+01,   Y0: 8.9688e+00,  elapsed time 100\n",
      "INFO   step:  1700,    loss: 5.0163e+01,   Y0: 8.9442e+00,  elapsed time 102\n",
      "INFO   step:  1800,    loss: 4.1797e+01,   Y0: 8.8713e+00,  elapsed time 104\n",
      "INFO   step:  1900,    loss: 4.0677e+01,   Y0: 8.9116e+00,  elapsed time 106\n",
      "INFO   step:  2000,    loss: 3.2218e+01,   Y0: 8.9406e+00,  elapsed time 109\n",
      "INFO   step:  2100,    loss: 2.9582e+01,   Y0: 8.9655e+00,  elapsed time 111\n",
      "INFO   step:  2200,    loss: 2.7660e+01,   Y0: 8.9553e+00,  elapsed time 113\n",
      "INFO   step:  2300,    loss: 3.7898e+01,   Y0: 8.9289e+00,  elapsed time 116\n",
      "INFO   step:  2400,    loss: 2.7905e+01,   Y0: 8.9041e+00,  elapsed time 118\n",
      "INFO   step:  2500,    loss: 2.5937e+01,   Y0: 8.9110e+00,  elapsed time 120\n",
      "INFO   step:  2600,    loss: 2.3608e+01,   Y0: 8.8954e+00,  elapsed time 123\n",
      "INFO   step:  2700,    loss: 1.6948e+01,   Y0: 8.8731e+00,  elapsed time 125\n",
      "INFO   step:  2800,    loss: 1.7008e+01,   Y0: 8.9164e+00,  elapsed time 128\n",
      "INFO   step:  2900,    loss: 1.4823e+01,   Y0: 8.9149e+00,  elapsed time 130\n",
      "INFO   step:  3000,    loss: 1.5415e+01,   Y0: 8.9482e+00,  elapsed time 133\n",
      "INFO   step:  3100,    loss: 1.3077e+01,   Y0: 8.9149e+00,  elapsed time 135\n",
      "INFO   step:  3200,    loss: 1.0312e+01,   Y0: 8.8864e+00,  elapsed time 137\n",
      "INFO   step:  3300,    loss: 1.0337e+01,   Y0: 8.8811e+00,  elapsed time 140\n",
      "INFO   step:  3400,    loss: 9.2710e+00,   Y0: 8.9051e+00,  elapsed time 142\n",
      "INFO   step:  3500,    loss: 7.1324e+00,   Y0: 8.8968e+00,  elapsed time 145\n",
      "INFO   step:  3600,    loss: 8.4204e+00,   Y0: 8.8896e+00,  elapsed time 147\n",
      "INFO   step:  3700,    loss: 6.8983e+00,   Y0: 8.8802e+00,  elapsed time 150\n",
      "INFO   step:  3800,    loss: 7.6630e+00,   Y0: 8.8881e+00,  elapsed time 152\n",
      "INFO   step:  3900,    loss: 8.0479e+00,   Y0: 8.9024e+00,  elapsed time 154\n",
      "INFO   step:  4000,    loss: 1.0589e+01,   Y0: 8.9222e+00,  elapsed time 157\n"
     ]
    }
   ],
   "source": [
    "main()"
   ]
  },
  {
   "cell_type": "code",
   "execution_count": 8,
   "metadata": {},
   "outputs": [
    {
     "name": "stdout",
     "output_type": "stream",
     "text": [
      "8.916037278572539\n"
     ]
    }
   ],
   "source": [
    "s0=100\n",
    "k=100\n",
    "r=0.02\n",
    "sigma=0.20\n",
    "T=1\n",
    "\n",
    "d1=(np.log(s0/k)+(r+sigma*sigma/2)*T)/(sigma*np.sqrt(T))\n",
    "d2=(np.log(s0/k)+(r-sigma*sigma/2)*T)/(sigma*np.sqrt(T))\n",
    "\n",
    "print(norm.cdf(d1)*s0-norm.cdf(d2)*k*np.exp(-r*T))"
   ]
  },
  {
   "cell_type": "code",
   "execution_count": null,
   "metadata": {},
   "outputs": [],
   "source": []
  }
 ],
 "metadata": {
  "kernelspec": {
   "display_name": "Python 3",
   "language": "python",
   "name": "python3"
  },
  "language_info": {
   "codemirror_mode": {
    "name": "ipython",
    "version": 3
   },
   "file_extension": ".py",
   "mimetype": "text/x-python",
   "name": "python",
   "nbconvert_exporter": "python",
   "pygments_lexer": "ipython3",
   "version": "3.7.4"
  }
 },
 "nbformat": 4,
 "nbformat_minor": 2
}
